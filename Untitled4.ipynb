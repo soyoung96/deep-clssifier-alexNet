{
  "nbformat": 4,
  "nbformat_minor": 0,
  "metadata": {
    "colab": {
      "name": "Untitled4.ipynb",
      "provenance": [],
      "collapsed_sections": [],
      "authorship_tag": "ABX9TyN1KFvKVu5dosJmCoHtnusI",
      "include_colab_link": true
    },
    "kernelspec": {
      "name": "python3",
      "display_name": "Python 3"
    },
    "language_info": {
      "name": "python"
    },
    "accelerator": "GPU",
    "widgets": {
      "application/vnd.jupyter.widget-state+json": {
        "2369412a3f354f61907aa3f57381fb77": {
          "model_module": "@jupyter-widgets/controls",
          "model_name": "HBoxModel",
          "state": {
            "_view_name": "HBoxView",
            "_dom_classes": [],
            "_model_name": "HBoxModel",
            "_view_module": "@jupyter-widgets/controls",
            "_model_module_version": "1.5.0",
            "_view_count": null,
            "_view_module_version": "1.5.0",
            "box_style": "",
            "layout": "IPY_MODEL_3504301926064b4eb138f64d8f7896ba",
            "_model_module": "@jupyter-widgets/controls",
            "children": [
              "IPY_MODEL_6b48c92d01254925bafbaee9bf2797ed",
              "IPY_MODEL_571f1582622a4fbe95bbb16c4f0184ab"
            ]
          }
        },
        "3504301926064b4eb138f64d8f7896ba": {
          "model_module": "@jupyter-widgets/base",
          "model_name": "LayoutModel",
          "state": {
            "_view_name": "LayoutView",
            "grid_template_rows": null,
            "right": null,
            "justify_content": null,
            "_view_module": "@jupyter-widgets/base",
            "overflow": null,
            "_model_module_version": "1.2.0",
            "_view_count": null,
            "flex_flow": null,
            "width": null,
            "min_width": null,
            "border": null,
            "align_items": null,
            "bottom": null,
            "_model_module": "@jupyter-widgets/base",
            "top": null,
            "grid_column": null,
            "overflow_y": null,
            "overflow_x": null,
            "grid_auto_flow": null,
            "grid_area": null,
            "grid_template_columns": null,
            "flex": null,
            "_model_name": "LayoutModel",
            "justify_items": null,
            "grid_row": null,
            "max_height": null,
            "align_content": null,
            "visibility": null,
            "align_self": null,
            "height": null,
            "min_height": null,
            "padding": null,
            "grid_auto_rows": null,
            "grid_gap": null,
            "max_width": null,
            "order": null,
            "_view_module_version": "1.2.0",
            "grid_template_areas": null,
            "object_position": null,
            "object_fit": null,
            "grid_auto_columns": null,
            "margin": null,
            "display": null,
            "left": null
          }
        },
        "6b48c92d01254925bafbaee9bf2797ed": {
          "model_module": "@jupyter-widgets/controls",
          "model_name": "FloatProgressModel",
          "state": {
            "_view_name": "ProgressView",
            "style": "IPY_MODEL_a07c4a09e6be42a495a590d4ebafd74c",
            "_dom_classes": [],
            "description": "",
            "_model_name": "FloatProgressModel",
            "bar_style": "success",
            "max": 2640397119,
            "_view_module": "@jupyter-widgets/controls",
            "_model_module_version": "1.5.0",
            "value": 2640397119,
            "_view_count": null,
            "_view_module_version": "1.5.0",
            "orientation": "horizontal",
            "min": 0,
            "description_tooltip": null,
            "_model_module": "@jupyter-widgets/controls",
            "layout": "IPY_MODEL_404c982060f742ee9749f4273c83d594"
          }
        },
        "571f1582622a4fbe95bbb16c4f0184ab": {
          "model_module": "@jupyter-widgets/controls",
          "model_name": "HTMLModel",
          "state": {
            "_view_name": "HTMLView",
            "style": "IPY_MODEL_ca3cf488e0b6406bbbc8a4bbfb1ad246",
            "_dom_classes": [],
            "description": "",
            "_model_name": "HTMLModel",
            "placeholder": "​",
            "_view_module": "@jupyter-widgets/controls",
            "_model_module_version": "1.5.0",
            "value": " 2640397312/? [02:35&lt;00:00, 16937409.83it/s]",
            "_view_count": null,
            "_view_module_version": "1.5.0",
            "description_tooltip": null,
            "_model_module": "@jupyter-widgets/controls",
            "layout": "IPY_MODEL_c11e70e73c394fd784b81af851cd0894"
          }
        },
        "a07c4a09e6be42a495a590d4ebafd74c": {
          "model_module": "@jupyter-widgets/controls",
          "model_name": "ProgressStyleModel",
          "state": {
            "_view_name": "StyleView",
            "_model_name": "ProgressStyleModel",
            "description_width": "initial",
            "_view_module": "@jupyter-widgets/base",
            "_model_module_version": "1.5.0",
            "_view_count": null,
            "_view_module_version": "1.2.0",
            "bar_color": null,
            "_model_module": "@jupyter-widgets/controls"
          }
        },
        "404c982060f742ee9749f4273c83d594": {
          "model_module": "@jupyter-widgets/base",
          "model_name": "LayoutModel",
          "state": {
            "_view_name": "LayoutView",
            "grid_template_rows": null,
            "right": null,
            "justify_content": null,
            "_view_module": "@jupyter-widgets/base",
            "overflow": null,
            "_model_module_version": "1.2.0",
            "_view_count": null,
            "flex_flow": null,
            "width": null,
            "min_width": null,
            "border": null,
            "align_items": null,
            "bottom": null,
            "_model_module": "@jupyter-widgets/base",
            "top": null,
            "grid_column": null,
            "overflow_y": null,
            "overflow_x": null,
            "grid_auto_flow": null,
            "grid_area": null,
            "grid_template_columns": null,
            "flex": null,
            "_model_name": "LayoutModel",
            "justify_items": null,
            "grid_row": null,
            "max_height": null,
            "align_content": null,
            "visibility": null,
            "align_self": null,
            "height": null,
            "min_height": null,
            "padding": null,
            "grid_auto_rows": null,
            "grid_gap": null,
            "max_width": null,
            "order": null,
            "_view_module_version": "1.2.0",
            "grid_template_areas": null,
            "object_position": null,
            "object_fit": null,
            "grid_auto_columns": null,
            "margin": null,
            "display": null,
            "left": null
          }
        },
        "ca3cf488e0b6406bbbc8a4bbfb1ad246": {
          "model_module": "@jupyter-widgets/controls",
          "model_name": "DescriptionStyleModel",
          "state": {
            "_view_name": "StyleView",
            "_model_name": "DescriptionStyleModel",
            "description_width": "",
            "_view_module": "@jupyter-widgets/base",
            "_model_module_version": "1.5.0",
            "_view_count": null,
            "_view_module_version": "1.2.0",
            "_model_module": "@jupyter-widgets/controls"
          }
        },
        "c11e70e73c394fd784b81af851cd0894": {
          "model_module": "@jupyter-widgets/base",
          "model_name": "LayoutModel",
          "state": {
            "_view_name": "LayoutView",
            "grid_template_rows": null,
            "right": null,
            "justify_content": null,
            "_view_module": "@jupyter-widgets/base",
            "overflow": null,
            "_model_module_version": "1.2.0",
            "_view_count": null,
            "flex_flow": null,
            "width": null,
            "min_width": null,
            "border": null,
            "align_items": null,
            "bottom": null,
            "_model_module": "@jupyter-widgets/base",
            "top": null,
            "grid_column": null,
            "overflow_y": null,
            "overflow_x": null,
            "grid_auto_flow": null,
            "grid_area": null,
            "grid_template_columns": null,
            "flex": null,
            "_model_name": "LayoutModel",
            "justify_items": null,
            "grid_row": null,
            "max_height": null,
            "align_content": null,
            "visibility": null,
            "align_self": null,
            "height": null,
            "min_height": null,
            "padding": null,
            "grid_auto_rows": null,
            "grid_gap": null,
            "max_width": null,
            "order": null,
            "_view_module_version": "1.2.0",
            "grid_template_areas": null,
            "object_position": null,
            "object_fit": null,
            "grid_auto_columns": null,
            "margin": null,
            "display": null,
            "left": null
          }
        }
      }
    }
  },
  "cells": [
    {
      "cell_type": "markdown",
      "metadata": {
        "id": "view-in-github",
        "colab_type": "text"
      },
      "source": [
        "<a href=\"https://colab.research.google.com/github/soyoung96/deep-clssifier-alexNet/blob/main/Untitled4.ipynb\" target=\"_parent\"><img src=\"https://colab.research.google.com/assets/colab-badge.svg\" alt=\"Open In Colab\"/></a>"
      ]
    },
    {
      "cell_type": "code",
      "metadata": {
        "id": "XM0b6_L6-KXJ",
        "colab": {
          "base_uri": "https://localhost:8080/",
          "height": 118,
          "referenced_widgets": [
            "2369412a3f354f61907aa3f57381fb77",
            "3504301926064b4eb138f64d8f7896ba",
            "6b48c92d01254925bafbaee9bf2797ed",
            "571f1582622a4fbe95bbb16c4f0184ab",
            "a07c4a09e6be42a495a590d4ebafd74c",
            "404c982060f742ee9749f4273c83d594",
            "ca3cf488e0b6406bbbc8a4bbfb1ad246",
            "c11e70e73c394fd784b81af851cd0894"
          ]
        },
        "outputId": "006639db-31cf-4df1-f30b-39bd0ae13536"
      },
      "source": [
        "import os\n",
        "import torch\n",
        "import torch.nn as nn\n",
        "import torch.optim as optim\n",
        "import torch.nn.functional as F\n",
        "from torch.utils import data\n",
        "import torchvision.datasets as datasets\n",
        "import torchvision.transforms as transforms\n",
        "import torchvision\n",
        "\n",
        "device = 'cuda' if torch.cuda.is_available() else 'cpu'\n",
        "\n",
        "#데이터불러오기\n",
        "\n",
        "transform = transforms.Compose([\n",
        "                                transforms.Resize(256),#알렉스넷은 256사이즈를\n",
        "                                transforms.RandomCrop(227), #227로 크롭해줌\n",
        "                                transforms.ToTensor(), #0-255=>0-1로 #필수\n",
        "                                transforms.Normalize((0.5,0.5,0.5),(0.5,0.5,0.5))#3-channel이므로\n",
        "\n",
        "])\n",
        "\n",
        "trainset = torchvision.datasets.STL10(root='data', split='train', \n",
        "                                      download=True, transform=transform)\n",
        "trainloader = torch.utils.data.DataLoader(trainset, batch_size=32, shuffle=True)\n",
        "\n",
        "\n",
        "\n",
        "testset = torchvision.datasets.STL10(root='data', split='test', \n",
        "                                     download=True, transform=transform)\n",
        "testloader = torch.utils.data.DataLoader(testset, batch_size=32, shuffle=False)\n",
        "#한번의 에포그만 돌리므로 shuffle=False\n",
        "\n",
        "\n"
      ],
      "execution_count": 9,
      "outputs": [
        {
          "output_type": "stream",
          "text": [
            "Downloading http://ai.stanford.edu/~acoates/stl10/stl10_binary.tar.gz to data/stl10_binary.tar.gz\n"
          ],
          "name": "stdout"
        },
        {
          "output_type": "display_data",
          "data": {
            "application/vnd.jupyter.widget-view+json": {
              "model_id": "2369412a3f354f61907aa3f57381fb77",
              "version_minor": 0,
              "version_major": 2
            },
            "text/plain": [
              "HBox(children=(FloatProgress(value=0.0, max=2640397119.0), HTML(value='')))"
            ]
          },
          "metadata": {
            "tags": []
          }
        },
        {
          "output_type": "stream",
          "text": [
            "\n",
            "Extracting data/stl10_binary.tar.gz to data\n",
            "Files already downloaded and verified\n"
          ],
          "name": "stdout"
        }
      ]
    },
    {
      "cell_type": "code",
      "metadata": {
        "id": "LUB67dzYOS0l"
      },
      "source": [
        "class AlexNet(nn.Module):\n",
        "    def __init__(self):\n",
        "        super().__init__()\n",
        "\n",
        "        self.convnet = nn.Sequential(\n",
        "        \n",
        "            nn.Conv2d(in_channels = 3,out_channels = 96,kernel_size = 11,stride = 4,padding =0),\n",
        "            nn.ReLU(inplace=True),\n",
        "            nn.LocalResponseNorm(size = 5,k=2),\n",
        "            nn.MaxPool2d(3,2),\n",
        "\n",
        "            nn.Conv2d(in_channels =96,out_channels = 256,kernel_size=5,stride=1,padding = 2),\n",
        "            nn.ReLU(),\n",
        "            nn.LocalResponseNorm(size = 5,k=2),\n",
        "            nn.MaxPool2d(3,2),\n",
        "\n",
        "            nn.Conv2d(256,384,3,1,1),\n",
        "            nn.ReLU(),\n",
        "            nn.LocalResponseNorm(size = 5,k=2),\n",
        "\n",
        "            nn.Conv2d(384,256,3,1,1),\n",
        "            nn.ReLU(),\n",
        "            nn.LocalResponseNorm(size = 5,k=2),\n",
        "            nn.MaxPool2d(3,2)\n",
        "\n",
        "        )\n",
        "\n",
        "        self.fclayer = nn.Sequential(\n",
        "            nn.Linear(6*6*256,2048*2),\n",
        "            nn.ReLU(),\n",
        "            \n",
        "            nn.Dropout(0.5),\n",
        "            nn.Linear(2048*2,2048*2),\n",
        "            nn.ReLU(),\n",
        "\n",
        "            nn.Dropout(0.5),\n",
        "            nn.Linear(2048*2,1000)\n",
        "\n",
        "\n",
        "        )\n",
        "\n",
        "    def forward(self,x):\n",
        "      x=self.convnet(x)\n",
        "      x = torch.flatten(x,1)\n",
        "      x=self.fclayer(x)\n",
        "      return x"
      ],
      "execution_count": 47,
      "outputs": []
    },
    {
      "cell_type": "code",
      "metadata": {
        "id": "oByvQRFtd4mZ"
      },
      "source": [
        "def init_weight(m):\n",
        "  if type(m) not in [nn.ReLU,nn.LocalResponseNorm,nn.MaxPool2d,\n",
        "                     nn.Sequential,nn.Dropout,AlexNet]: #가중치가 없는거 빼고\n",
        "\n",
        "    torch.nn.init.normal_(m.weight,0,0.01) #(weight,mean,std)\n",
        "    m.bias.data.fill_(1) #bias fill 1\n",
        "\n",
        "alexnet = AlexNet()\n",
        "alexnet.apply(init_weight)\n",
        "alexnet = alexnet.to(device)\n",
        "\n",
        "criterion = nn.CrossEntropyLoss().to(device)\n",
        "optimizer = optim.Adam(alexnet.parameters(),lr=0.01,weight_decay = 0.0005)\n",
        "#weight_decay ==L2 penalty\n",
        "\n"
      ],
      "execution_count": 48,
      "outputs": []
    },
    {
      "cell_type": "code",
      "metadata": {
        "id": "YC0dfTe7fbK_",
        "colab": {
          "base_uri": "https://localhost:8080/"
        },
        "outputId": "ed73f916-e30b-4232-9ad8-b69359ccbe4c"
      },
      "source": [
        "#train\n",
        "\n",
        "min_loss = int(1e9)\n",
        "history=[]\n",
        "for epoch in range(5):\n",
        "\n",
        "  alexnet.train()\n",
        "  epoch_loss =0.0\n",
        "  for step_ind,(input,label) in enumerate(trainloader):\n",
        "    input,label = input.to(device),label.to(device)\n",
        "    optimizer.zero_grad() #grad cleaer in calculation node\n",
        "    output = alexnet(input)\n",
        "    loss = criterion(output,label)\n",
        "    loss.backward()\n",
        "    optimizer.step()\n",
        "\n",
        "    epoch_loss += loss.item()\n",
        "    history.append(loss.item())\n",
        "\n",
        "  alexnet.eval()\n",
        "\n",
        "  test_loss=0\n",
        "  class_correct = list(0. for i in range(1000))\n",
        "  class_total = list(0. for i in range(1000))\n",
        "  with torch.no_grad():\n",
        "    for input,labels in testloader:\n",
        "      input,labels = input.to(device),labels.to(device)\n",
        "      output = alexnet(input)\n",
        "      loss\n",
        "      test_loss +=criterion(output,labels)\n",
        "      _,pred = torch.max(output,1)\n",
        "      c=(pred ==labels).squeeze() # [T,F,T,T....]\n",
        "      for i in range(labels.size()[0]): #32-iter\n",
        "        label = labels[i].item()\n",
        "        class_correct[label] += c[i].item()\n",
        "        class_total[label]+=1 #(labels) by class\n",
        "  \n",
        "  \n",
        "  print(\"[Epoch : {}] train_loss: {:.5f} val_acc: {:.2f} %\".format(epoch+1,loss/32,\n",
        "                                                                sum(class_correct)/sum(class_total)*100))\n",
        "  \n",
        "\n",
        "\n",
        "print(\"finish\")\n",
        "      \n",
        "\n",
        "\n"
      ],
      "execution_count": 51,
      "outputs": [
        {
          "output_type": "stream",
          "text": [
            "[Epoch : 1] train_loss: 0.58961 val_acc: 10.00 %\n",
            "[Epoch : 2] train_loss: 0.07493 val_acc: 10.00 %\n",
            "[Epoch : 3] train_loss: 0.07502 val_acc: 10.00 %\n",
            "[Epoch : 4] train_loss: 0.07451 val_acc: 10.00 %\n",
            "[Epoch : 5] train_loss: 0.07412 val_acc: 10.00 %\n",
            "finish\n"
          ],
          "name": "stdout"
        }
      ]
    },
    {
      "cell_type": "code",
      "metadata": {
        "id": "YY6Z5wD4Ojnc"
      },
      "source": [
        ""
      ],
      "execution_count": null,
      "outputs": []
    }
  ]
}